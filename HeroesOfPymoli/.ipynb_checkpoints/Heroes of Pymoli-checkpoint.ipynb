{
 "cells": [
  {
   "cell_type": "code",
   "execution_count": 1,
   "metadata": {},
   "outputs": [],
   "source": [
    "import pandas as pd\n",
    "import csv"
   ]
  },
  {
   "cell_type": "code",
   "execution_count": 2,
   "metadata": {},
   "outputs": [],
   "source": [
    "df=pd.read_csv('purchase_data.csv')"
   ]
  },
  {
   "cell_type": "code",
   "execution_count": 3,
   "metadata": {},
   "outputs": [
    {
     "data": {
      "text/html": [
       "<div>\n",
       "<style scoped>\n",
       "    .dataframe tbody tr th:only-of-type {\n",
       "        vertical-align: middle;\n",
       "    }\n",
       "\n",
       "    .dataframe tbody tr th {\n",
       "        vertical-align: top;\n",
       "    }\n",
       "\n",
       "    .dataframe thead th {\n",
       "        text-align: right;\n",
       "    }\n",
       "</style>\n",
       "<table border=\"1\" class=\"dataframe\">\n",
       "  <thead>\n",
       "    <tr style=\"text-align: right;\">\n",
       "      <th></th>\n",
       "      <th>Purchase ID</th>\n",
       "      <th>SN</th>\n",
       "      <th>Age</th>\n",
       "      <th>Gender</th>\n",
       "      <th>Item ID</th>\n",
       "      <th>Item Name</th>\n",
       "      <th>Price</th>\n",
       "    </tr>\n",
       "  </thead>\n",
       "  <tbody>\n",
       "    <tr>\n",
       "      <th>0</th>\n",
       "      <td>0</td>\n",
       "      <td>Lisim78</td>\n",
       "      <td>20</td>\n",
       "      <td>Male</td>\n",
       "      <td>108</td>\n",
       "      <td>Extraction, Quickblade Of Trembling Hands</td>\n",
       "      <td>3.53</td>\n",
       "    </tr>\n",
       "    <tr>\n",
       "      <th>1</th>\n",
       "      <td>1</td>\n",
       "      <td>Lisovynya38</td>\n",
       "      <td>40</td>\n",
       "      <td>Male</td>\n",
       "      <td>143</td>\n",
       "      <td>Frenzied Scimitar</td>\n",
       "      <td>1.56</td>\n",
       "    </tr>\n",
       "    <tr>\n",
       "      <th>2</th>\n",
       "      <td>2</td>\n",
       "      <td>Ithergue48</td>\n",
       "      <td>24</td>\n",
       "      <td>Male</td>\n",
       "      <td>92</td>\n",
       "      <td>Final Critic</td>\n",
       "      <td>4.88</td>\n",
       "    </tr>\n",
       "    <tr>\n",
       "      <th>3</th>\n",
       "      <td>3</td>\n",
       "      <td>Chamassasya86</td>\n",
       "      <td>24</td>\n",
       "      <td>Male</td>\n",
       "      <td>100</td>\n",
       "      <td>Blindscythe</td>\n",
       "      <td>3.27</td>\n",
       "    </tr>\n",
       "    <tr>\n",
       "      <th>4</th>\n",
       "      <td>4</td>\n",
       "      <td>Iskosia90</td>\n",
       "      <td>23</td>\n",
       "      <td>Male</td>\n",
       "      <td>131</td>\n",
       "      <td>Fury</td>\n",
       "      <td>1.44</td>\n",
       "    </tr>\n",
       "  </tbody>\n",
       "</table>\n",
       "</div>"
      ],
      "text/plain": [
       "   Purchase ID             SN  Age Gender  Item ID  \\\n",
       "0            0        Lisim78   20   Male      108   \n",
       "1            1    Lisovynya38   40   Male      143   \n",
       "2            2     Ithergue48   24   Male       92   \n",
       "3            3  Chamassasya86   24   Male      100   \n",
       "4            4      Iskosia90   23   Male      131   \n",
       "\n",
       "                                   Item Name  Price  \n",
       "0  Extraction, Quickblade Of Trembling Hands   3.53  \n",
       "1                          Frenzied Scimitar   1.56  \n",
       "2                               Final Critic   4.88  \n",
       "3                                Blindscythe   3.27  \n",
       "4                                       Fury   1.44  "
      ]
     },
     "execution_count": 3,
     "metadata": {},
     "output_type": "execute_result"
    }
   ],
   "source": [
    "df.head()"
   ]
  },
  {
   "cell_type": "code",
   "execution_count": 4,
   "metadata": {},
   "outputs": [
    {
     "name": "stdout",
     "output_type": "stream",
     "text": [
      "780\n"
     ]
    }
   ],
   "source": [
    "row_count = 0\n",
    "  \n",
    "for col in df.index: \n",
    "    row_count += 1\n",
    "  \n",
    "print(row_count) "
   ]
  },
  {
   "cell_type": "code",
   "execution_count": 5,
   "metadata": {},
   "outputs": [],
   "source": [
    "#Player Count\n",
    "total_Players = df['SN'].nunique()"
   ]
  },
  {
   "cell_type": "code",
   "execution_count": 6,
   "metadata": {},
   "outputs": [
    {
     "name": "stdout",
     "output_type": "stream",
     "text": [
      "576\n"
     ]
    }
   ],
   "source": [
    "print(total_Players)"
   ]
  },
  {
   "cell_type": "code",
   "execution_count": 7,
   "metadata": {},
   "outputs": [
    {
     "data": {
      "text/html": [
       "<div>\n",
       "<style scoped>\n",
       "    .dataframe tbody tr th:only-of-type {\n",
       "        vertical-align: middle;\n",
       "    }\n",
       "\n",
       "    .dataframe tbody tr th {\n",
       "        vertical-align: top;\n",
       "    }\n",
       "\n",
       "    .dataframe thead th {\n",
       "        text-align: right;\n",
       "    }\n",
       "</style>\n",
       "<table border=\"1\" class=\"dataframe\">\n",
       "  <thead>\n",
       "    <tr style=\"text-align: right;\">\n",
       "      <th></th>\n",
       "      <th>Number of Unique Items</th>\n",
       "      <th>Average Price</th>\n",
       "      <th>Number of Purchases</th>\n",
       "      <th>Total Revenue</th>\n",
       "    </tr>\n",
       "  </thead>\n",
       "  <tbody>\n",
       "    <tr>\n",
       "      <th>0</th>\n",
       "      <td>179</td>\n",
       "      <td>3.050987</td>\n",
       "      <td>780</td>\n",
       "      <td>2379.77</td>\n",
       "    </tr>\n",
       "  </tbody>\n",
       "</table>\n",
       "</div>"
      ],
      "text/plain": [
       "   Number of Unique Items  Average Price  Number of Purchases  Total Revenue\n",
       "0                     179       3.050987                  780        2379.77"
      ]
     },
     "execution_count": 7,
     "metadata": {},
     "output_type": "execute_result"
    }
   ],
   "source": [
    "#Purchasing Analysis (Total)\n",
    "number_Unique_Items = df['Item ID'].nunique()\n",
    "avg_Price = df.Price.mean()\n",
    "number_Purchases = df['Purchase ID'].count()\n",
    "total_Revenue = df.Price.sum()\n",
    "\n",
    "df2 = pd.DataFrame({\"Number of Unique Items\": [number_Unique_Items],\"Average Price\": [avg_Price], \n",
    "\"Number of Purchases\": [number_Purchases], \"Total Revenue\": [total_Revenue]})\n",
    "\n",
    "df2"
   ]
  },
  {
   "cell_type": "code",
   "execution_count": 8,
   "metadata": {},
   "outputs": [],
   "source": [
    "#Gender Demographics\n",
    "df3=df.groupby('Gender')"
   ]
  },
  {
   "cell_type": "code",
   "execution_count": 9,
   "metadata": {},
   "outputs": [
    {
     "data": {
      "text/plain": [
       "Gender\n",
       "Female                    81\n",
       "Male                     484\n",
       "Other / Non-Disclosed     11\n",
       "Name: SN, dtype: int64"
      ]
     },
     "execution_count": 9,
     "metadata": {},
     "output_type": "execute_result"
    }
   ],
   "source": [
    "df3_Count = df3[\"SN\"].nunique()\n",
    "df3_Percentage = round(df3_Count / total_Players * 100,2)\n",
    "df3_Percentage\n",
    "df3_Count"
   ]
  },
  {
   "cell_type": "code",
   "execution_count": 10,
   "metadata": {},
   "outputs": [
    {
     "data": {
      "text/plain": [
       "Gender\n",
       "Female                   14.06\n",
       "Male                     84.03\n",
       "Other / Non-Disclosed     1.91\n",
       "Name: SN, dtype: float64"
      ]
     },
     "execution_count": 10,
     "metadata": {},
     "output_type": "execute_result"
    }
   ],
   "source": [
    "df3_Percentage"
   ]
  },
  {
   "cell_type": "code",
   "execution_count": 11,
   "metadata": {},
   "outputs": [
    {
     "name": "stdout",
     "output_type": "stream",
     "text": [
      "Female\n",
      "     Purchase ID               SN  Age  Gender  Item ID  \\\n",
      "15            15        Lisassa64   21  Female       98   \n",
      "18            18        Reunasu60   22  Female       82   \n",
      "38            38         Reulae52   10  Female      116   \n",
      "41            41        Assosia88   20  Female        7   \n",
      "55            55        Phaelap26   25  Female       84   \n",
      "..           ...              ...  ...     ...      ...   \n",
      "731          731         Eudanu84   22  Female       12   \n",
      "740          740        Reunasu60   22  Female      127   \n",
      "754          754  Pheosurllorin41   23  Female       79   \n",
      "767          767          Ilmol66    8  Female       92   \n",
      "775          775       Aethedru70   21  Female       60   \n",
      "\n",
      "                        Item Name  Price  \n",
      "15    Deadline, Voice Of Subtlety   2.89  \n",
      "18                        Nirvana   4.90  \n",
      "38        Renewed Skeletal Katana   4.18  \n",
      "41   Thorn, Satchel of Dark Souls   1.33  \n",
      "55                     Arcane Gem   3.79  \n",
      "..                            ...    ...  \n",
      "731                         Dawne   1.02  \n",
      "740  Heartseeker, Reaver of Souls   3.92  \n",
      "754           Alpha, Oath of Zeal   4.05  \n",
      "767                  Final Critic   4.88  \n",
      "775                          Wolf   3.54  \n",
      "\n",
      "[113 rows x 7 columns]\n",
      "Male\n",
      "     Purchase ID             SN  Age Gender  Item ID  \\\n",
      "0              0        Lisim78   20   Male      108   \n",
      "1              1    Lisovynya38   40   Male      143   \n",
      "2              2     Ithergue48   24   Male       92   \n",
      "3              3  Chamassasya86   24   Male      100   \n",
      "4              4      Iskosia90   23   Male      131   \n",
      "..           ...            ...  ...    ...      ...   \n",
      "774          774     Jiskjask80   11   Male       92   \n",
      "776          776         Iral74   21   Male      164   \n",
      "777          777     Yathecal72   20   Male       67   \n",
      "778          778        Sisur91    7   Male       92   \n",
      "779          779      Ennrian78   24   Male       50   \n",
      "\n",
      "                                     Item Name  Price  \n",
      "0    Extraction, Quickblade Of Trembling Hands   3.53  \n",
      "1                            Frenzied Scimitar   1.56  \n",
      "2                                 Final Critic   4.88  \n",
      "3                                  Blindscythe   3.27  \n",
      "4                                         Fury   1.44  \n",
      "..                                         ...    ...  \n",
      "774                               Final Critic   4.19  \n",
      "776                           Exiled Doomblade   1.63  \n",
      "777      Celeste, Incarnation of the Corrupted   3.46  \n",
      "778                               Final Critic   4.19  \n",
      "779                                       Dawn   4.60  \n",
      "\n",
      "[652 rows x 7 columns]\n",
      "Other / Non-Disclosed\n",
      "     Purchase ID            SN  Age                 Gender  Item ID  \\\n",
      "9              9   Chanosian48   35  Other / Non-Disclosed      136   \n",
      "22            22  Siarithria38   38  Other / Non-Disclosed       24   \n",
      "82            82    Haerithp41   16  Other / Non-Disclosed      160   \n",
      "111          111      Sundim98   21  Other / Non-Disclosed       41   \n",
      "228          228   Jiskirran77   20  Other / Non-Disclosed       80   \n",
      "237          237     Idairin51   20  Other / Non-Disclosed       16   \n",
      "242          242     Eodaisu60   16  Other / Non-Disclosed       39   \n",
      "291          291     Idairin51   20  Other / Non-Disclosed       35   \n",
      "350          350     Rairith81   15  Other / Non-Disclosed       34   \n",
      "401          401      Lirtim36   15  Other / Non-Disclosed       46   \n",
      "484          484   Chanosian48   35  Other / Non-Disclosed       39   \n",
      "549          549    Maluncil97   25  Other / Non-Disclosed      146   \n",
      "629          629    Maluncil97   25  Other / Non-Disclosed      107   \n",
      "637          637        Airi27   24  Other / Non-Disclosed      163   \n",
      "747          747  Siarithria38   38  Other / Non-Disclosed      146   \n",
      "\n",
      "                                Item Name  Price  \n",
      "9            Ghastly Adamantite Protector   3.58  \n",
      "22                          Warped Fetish   3.81  \n",
      "82                             Azurewrath   4.40  \n",
      "111                                 Orbit   4.75  \n",
      "228                             Dreamsong   3.39  \n",
      "237                       Restored Bauble   3.55  \n",
      "242  Betrayal, Whisper of Grieving Widows   3.94  \n",
      "291              Heartless Bone Dualblade   3.45  \n",
      "350                       Retribution Axe   2.22  \n",
      "401               Hopeless Ebon Dualblade   1.33  \n",
      "484  Betrayal, Whisper of Grieving Widows   3.94  \n",
      "549                  Warped Iron Scimitar   3.10  \n",
      "629             Splitter, Foe Of Subtlety   2.18  \n",
      "637                  Thunderfury Scimitar   3.45  \n",
      "747                  Warped Iron Scimitar   3.10  \n"
     ]
    }
   ],
   "source": [
    "#Purchasing Analysis (Gender)\n",
    "for Gender, Gender_df in df3:\n",
    "    print(Gender)\n",
    "    print(Gender_df)"
   ]
  },
  {
   "cell_type": "code",
   "execution_count": 12,
   "metadata": {},
   "outputs": [],
   "source": [
    "Male_df=df3.get_group('Male')\n",
    "Female_df=df3.get_group('Female')\n",
    "Other_df=df3.get_group('Other / Non-Disclosed')"
   ]
  },
  {
   "cell_type": "code",
   "execution_count": 13,
   "metadata": {},
   "outputs": [
    {
     "data": {
      "text/plain": [
       "3.0178527607361953"
      ]
     },
     "execution_count": 13,
     "metadata": {},
     "output_type": "execute_result"
    }
   ],
   "source": [
    "Male_df_avg_Price = Male_df.Price.mean()\n",
    "Male_df_avg_Price"
   ]
  },
  {
   "cell_type": "code",
   "execution_count": 14,
   "metadata": {},
   "outputs": [
    {
     "data": {
      "text/plain": [
       "652"
      ]
     },
     "execution_count": 14,
     "metadata": {},
     "output_type": "execute_result"
    }
   ],
   "source": [
    "Purchase_Count_Male_df = Male_df['Purchase ID'].count()\n",
    "Purchase_Count_Male_df"
   ]
  },
  {
   "cell_type": "code",
   "execution_count": 15,
   "metadata": {},
   "outputs": [
    {
     "data": {
      "text/plain": [
       "1967.64"
      ]
     },
     "execution_count": 15,
     "metadata": {},
     "output_type": "execute_result"
    }
   ],
   "source": [
    "Total_Purchase_Value_Male_df=Male_df.Price.sum()\n",
    "Total_Purchase_Value_Male_df"
   ]
  },
  {
   "cell_type": "code",
   "execution_count": 16,
   "metadata": {},
   "outputs": [
    {
     "data": {
      "text/plain": [
       "0.3313614279034783"
      ]
     },
     "execution_count": 16,
     "metadata": {},
     "output_type": "execute_result"
    }
   ],
   "source": [
    "Average_Purchase_Total=Purchase_Count_Male_df/Total_Purchase_Value_Male_df\n",
    "Average_Purchase_Total"
   ]
  },
  {
   "cell_type": "code",
   "execution_count": 17,
   "metadata": {},
   "outputs": [],
   "source": [
    "Female_df_avg_Price = Female_df.Price.mean()\n",
    "Purchase_Count_Female_df = Female_df['Purchase ID'].count()\n",
    "Total_Purchase_Value_Female_df=Female_df.Price.sum()\n",
    "Average_Purchase_Total_Female=Purchase_Count_Female_df/Total_Purchase_Value_Female_df"
   ]
  },
  {
   "cell_type": "code",
   "execution_count": 18,
   "metadata": {},
   "outputs": [],
   "source": [
    "Other_df_avg_Price = Other_df.Price.mean()\n",
    "Purchase_Count_Other_df = Other_df['Purchase ID'].count()\n",
    "Total_Purchase_Value_Other_df=Other_df.Price.sum()\n",
    "Average_Purchase_Total_Other=Purchase_Count_Other_df/Total_Purchase_Value_Other_df"
   ]
  },
  {
   "cell_type": "code",
   "execution_count": 19,
   "metadata": {},
   "outputs": [],
   "source": [
    "Purchase_by_Gender=pd.DataFrame({})"
   ]
  },
  {
   "cell_type": "code",
   "execution_count": 20,
   "metadata": {},
   "outputs": [],
   "source": [
    "Purchase_by_Gender={\"Purchase Count\": [Purchase_Count_Male_df, Purchase_Count_Female_df, Purchase_Count_Other_df],\n",
    "                    \"Average Purchase Price\": [Male_df_avg_Price, Female_df_avg_Price, Female_df_avg_Price], \n",
    "                    \"Total Purchase Value\": [Total_Purchase_Value_Male_df, Total_Purchase_Value_Female_df, Total_Purchase_Value_Other_df],\n",
    "                    \"Avg Purchase Total per person\": [Average_Purchase_Total, Average_Purchase_Total_Female, Average_Purchase_Total_Other]}\n"
   ]
  },
  {
   "cell_type": "code",
   "execution_count": 21,
   "metadata": {},
   "outputs": [
    {
     "name": "stdout",
     "output_type": "stream",
     "text": [
      "        Purchase Count  Average Purchase Price  Total Purchase Value  \\\n",
      "Male               652                3.017853               1967.64   \n",
      "Female             113                3.203009                361.94   \n",
      "Other               15                3.203009                 50.19   \n",
      "\n",
      "        Avg Purchase Total per person  \n",
      "Male                         0.331361  \n",
      "Female                       0.312206  \n",
      "Other                        0.298864  \n"
     ]
    }
   ],
   "source": [
    "\n",
    "df1 = pd.DataFrame(Purchase_by_Gender, columns = ['Purchase Count','Average Purchase Price', 'Total Purchase Value', \n",
    "                                                  'Avg Purchase Total per person'], index=['Male','Female','Other'])\n",
    "\n",
    "print (df1)"
   ]
  },
  {
   "cell_type": "code",
   "execution_count": 22,
   "metadata": {},
   "outputs": [],
   "source": [
    "#Age Demographics\n",
    "bins = [0, 10, 20, 30, 40, 50, 60]\n",
    "age_labels = [\"<20\", \"20-30\", \"31-40\", \"41-50\", \"51-60\", \"61+\"]\n"
   ]
  },
  {
   "cell_type": "code",
   "execution_count": 23,
   "metadata": {},
   "outputs": [],
   "source": [
    "df[\"Age Labels\"] = pd.cut(df[\"Age\"], bins, labels=age_labels)\n",
    "grouped_age_df = df.groupby([\"Age Labels\"])"
   ]
  },
  {
   "cell_type": "code",
   "execution_count": 24,
   "metadata": {},
   "outputs": [
    {
     "data": {
      "text/plain": [
       "<pandas.core.groupby.generic.DataFrameGroupBy object at 0x000002627C450688>"
      ]
     },
     "execution_count": 24,
     "metadata": {},
     "output_type": "execute_result"
    }
   ],
   "source": [
    "grouped_age_df"
   ]
  },
  {
   "cell_type": "code",
   "execution_count": 25,
   "metadata": {},
   "outputs": [
    {
     "data": {
      "text/plain": [
       "Age Labels\n",
       "<20       4.166667\n",
       "20-30    33.159722\n",
       "31-40    50.520833\n",
       "41-50    10.937500\n",
       "51-60     1.215278\n",
       "61+       0.000000\n",
       "Name: SN, dtype: float64"
      ]
     },
     "execution_count": 25,
     "metadata": {},
     "output_type": "execute_result"
    }
   ],
   "source": [
    "ageCount = grouped_age_df[\"SN\"].nunique()\n",
    "agePercentage = ageCount / total_Players * 100\n",
    "agePercentage"
   ]
  },
  {
   "cell_type": "code",
   "execution_count": 26,
   "metadata": {},
   "outputs": [],
   "source": [
    "age_demo_df = pd.DataFrame({\"Total Count\": ageCount,\n",
    "                            \"Percentage of Players\": agePercentage})\n"
   ]
  },
  {
   "cell_type": "code",
   "execution_count": 27,
   "metadata": {},
   "outputs": [],
   "source": [
    "age_demo_df[\"Percentage of Players\"] = age_demo_df[\"Percentage of Players\"].map(\"{:.2f}%\".format)"
   ]
  },
  {
   "cell_type": "code",
   "execution_count": 28,
   "metadata": {},
   "outputs": [
    {
     "data": {
      "text/html": [
       "<div>\n",
       "<style scoped>\n",
       "    .dataframe tbody tr th:only-of-type {\n",
       "        vertical-align: middle;\n",
       "    }\n",
       "\n",
       "    .dataframe tbody tr th {\n",
       "        vertical-align: top;\n",
       "    }\n",
       "\n",
       "    .dataframe thead th {\n",
       "        text-align: right;\n",
       "    }\n",
       "</style>\n",
       "<table border=\"1\" class=\"dataframe\">\n",
       "  <thead>\n",
       "    <tr style=\"text-align: right;\">\n",
       "      <th></th>\n",
       "      <th>Total Count</th>\n",
       "      <th>Percentage of Players</th>\n",
       "    </tr>\n",
       "    <tr>\n",
       "      <th>Age Labels</th>\n",
       "      <th></th>\n",
       "      <th></th>\n",
       "    </tr>\n",
       "  </thead>\n",
       "  <tbody>\n",
       "    <tr>\n",
       "      <th>&lt;20</th>\n",
       "      <td>24</td>\n",
       "      <td>4.17%</td>\n",
       "    </tr>\n",
       "    <tr>\n",
       "      <th>20-30</th>\n",
       "      <td>191</td>\n",
       "      <td>33.16%</td>\n",
       "    </tr>\n",
       "    <tr>\n",
       "      <th>31-40</th>\n",
       "      <td>291</td>\n",
       "      <td>50.52%</td>\n",
       "    </tr>\n",
       "    <tr>\n",
       "      <th>41-50</th>\n",
       "      <td>63</td>\n",
       "      <td>10.94%</td>\n",
       "    </tr>\n",
       "    <tr>\n",
       "      <th>51-60</th>\n",
       "      <td>7</td>\n",
       "      <td>1.22%</td>\n",
       "    </tr>\n",
       "    <tr>\n",
       "      <th>61+</th>\n",
       "      <td>0</td>\n",
       "      <td>0.00%</td>\n",
       "    </tr>\n",
       "  </tbody>\n",
       "</table>\n",
       "</div>"
      ],
      "text/plain": [
       "            Total Count Percentage of Players\n",
       "Age Labels                                   \n",
       "<20                  24                 4.17%\n",
       "20-30               191                33.16%\n",
       "31-40               291                50.52%\n",
       "41-50                63                10.94%\n",
       "51-60                 7                 1.22%\n",
       "61+                   0                 0.00%"
      ]
     },
     "execution_count": 28,
     "metadata": {},
     "output_type": "execute_result"
    }
   ],
   "source": [
    "age_demo_df[[\"Total Count\", \"Percentage of Players\"]]"
   ]
  },
  {
   "cell_type": "code",
   "execution_count": null,
   "metadata": {},
   "outputs": [],
   "source": []
  }
 ],
 "metadata": {
  "kernelspec": {
   "display_name": "Python 3",
   "language": "python",
   "name": "python3"
  },
  "language_info": {
   "codemirror_mode": {
    "name": "ipython",
    "version": 3
   },
   "file_extension": ".py",
   "mimetype": "text/x-python",
   "name": "python",
   "nbconvert_exporter": "python",
   "pygments_lexer": "ipython3",
   "version": "3.7.6"
  }
 },
 "nbformat": 4,
 "nbformat_minor": 4
}
